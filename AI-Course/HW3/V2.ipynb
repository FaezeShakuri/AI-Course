{
 "cells": [
  {
   "cell_type": "code",
   "execution_count": 69,
   "id": "9956d9a3-7d67-46f2-91b2-73eab57da9b2",
   "metadata": {
    "tags": []
   },
   "outputs": [],
   "source": [
    "import pandas as pd\n",
    "import numpy as np\n",
    "import matplotlib.pyplot as plt"
   ]
  },
  {
   "cell_type": "code",
   "execution_count": 74,
   "id": "db57fe0f-2a27-470f-824f-817cdeee1d87",
   "metadata": {},
   "outputs": [],
   "source": [
    "# Another version using diabetes SKLearn dataset and Linear_resression class\n",
    "# Targets are differebt in this version\n",
    "from sklearn import datasets"
   ]
  },
  {
   "cell_type": "code",
   "execution_count": 75,
   "id": "2a6f2d8e-ce02-4e1a-9b49-05bcb5e8f54f",
   "metadata": {
    "tags": []
   },
   "outputs": [
    {
     "data": {
      "text/html": [
       "<div>\n",
       "<style scoped>\n",
       "    .dataframe tbody tr th:only-of-type {\n",
       "        vertical-align: middle;\n",
       "    }\n",
       "\n",
       "    .dataframe tbody tr th {\n",
       "        vertical-align: top;\n",
       "    }\n",
       "\n",
       "    .dataframe thead th {\n",
       "        text-align: right;\n",
       "    }\n",
       "</style>\n",
       "<table border=\"1\" class=\"dataframe\">\n",
       "  <thead>\n",
       "    <tr style=\"text-align: right;\">\n",
       "      <th></th>\n",
       "      <th>bmi</th>\n",
       "      <th>target</th>\n",
       "    </tr>\n",
       "  </thead>\n",
       "  <tbody>\n",
       "    <tr>\n",
       "      <th>0</th>\n",
       "      <td>0.061696</td>\n",
       "      <td>151.0</td>\n",
       "    </tr>\n",
       "    <tr>\n",
       "      <th>1</th>\n",
       "      <td>-0.051474</td>\n",
       "      <td>75.0</td>\n",
       "    </tr>\n",
       "    <tr>\n",
       "      <th>2</th>\n",
       "      <td>0.044451</td>\n",
       "      <td>141.0</td>\n",
       "    </tr>\n",
       "    <tr>\n",
       "      <th>3</th>\n",
       "      <td>-0.011595</td>\n",
       "      <td>206.0</td>\n",
       "    </tr>\n",
       "    <tr>\n",
       "      <th>4</th>\n",
       "      <td>-0.036385</td>\n",
       "      <td>135.0</td>\n",
       "    </tr>\n",
       "  </tbody>\n",
       "</table>\n",
       "</div>"
      ],
      "text/plain": [
       "        bmi  target\n",
       "0  0.061696   151.0\n",
       "1 -0.051474    75.0\n",
       "2  0.044451   141.0\n",
       "3 -0.011595   206.0\n",
       "4 -0.036385   135.0"
      ]
     },
     "execution_count": 75,
     "metadata": {},
     "output_type": "execute_result"
    }
   ],
   "source": [
    "# Load the diabetes dataset\n",
    "dataset = sklearn.datasets.load_diabetes()\n",
    "diabetes = pd.DataFrame(dataset.data, columns=dataset.feature_names) \n",
    "diabetes['target'] = pd.Series(dataset.target)\n",
    "\n",
    "# Clean diabetes dataset\n",
    "diabetes.drop(['age', 'sex', 'bp', 's1', 's2', 's3', 's4', 's5', 's6',], inplace=True, axis=1)\n",
    "diabetes.head()"
   ]
  },
  {
   "cell_type": "code",
   "execution_count": 76,
   "id": "2a205cd0-019b-47de-af8a-6ba1d0fced16",
   "metadata": {},
   "outputs": [],
   "source": [
    "# Linear Regression class\n",
    "class Linear_Regression:\n",
    "    def __init__(self):\n",
    "        self.x = None\n",
    "        self.y = None\n",
    "        self.alpha0 = None\n",
    "        self.alpha1 = None\n",
    "        self.coeffients = []\n",
    "        \n",
    "    def fit(self, x, y):\n",
    "        self.x = x\n",
    "        self.y = y\n",
    "        \n",
    "        xmean = x.mean()\n",
    "        ymean = y.mean()\n",
    "        \n",
    "        sum0, sum1 = 0, 0\n",
    "        for i in range(len(x)):\n",
    "            sum0 += (x[i] - xmean) * (y[i] - ymean)\n",
    "            sum1 += (x[i] - xmean) ** 2\n",
    "        \n",
    "        # alpha1 is m and alpha0 is b\n",
    "        self.alpha1 = float(sum0 / sum1) \n",
    "        self.alpha0 = ymean - float(self.alpha1 * xmean)\n",
    "        \n",
    "        self.coeffients = [self.alpha0, self.alpha1]\n",
    "        return self\n",
    "    \n",
    "    def predict(self, x):\n",
    "        # m * x + b\n",
    "        return self.coeffients[1] * x + self.coeffients[0]\n",
    "    \n",
    "    def mse(self, ytest, ypred):\n",
    "        ysum = 0\n",
    "        for i in range(len(ytest)):\n",
    "            ysum += (ypred[i] - ytest[i]) ** 2\n",
    "        \n",
    "        return float(ysum / len(ytest))"
   ]
  },
  {
   "cell_type": "code",
   "execution_count": 77,
   "id": "bdf04e26-6a40-4aa4-b4e6-312b1e71ccf7",
   "metadata": {},
   "outputs": [
    {
     "name": "stdout",
     "output_type": "stream",
     "text": [
      "MSE:  4150.680189329982\n"
     ]
    }
   ],
   "source": [
    "# Split diabetes dataset\n",
    "X = diabetes['bmi'].values.reshape(-1, 1)\n",
    "y = diabetes['target'].values.reshape(-1, 1)\n",
    "Xtrain, Xtest, ytrain, ytest = train_test_split(X, y, test_size = 0.2, random_state = 0)\n",
    "\n",
    "# Use diabetes dataset to create sample Linear regression\n",
    "LR = Linear_Regression()\n",
    "LR.fit(Xtrain, ytrain)\n",
    "y_pred = LR.predict(Xtest)\n",
    "\n",
    "print(\"MSE: \", LR.mse(y_test, y_pred))"
   ]
  },
  {
   "cell_type": "code",
   "execution_count": 78,
   "id": "1393328a-ac00-4302-ad78-d4b3bb3f56d9",
   "metadata": {},
   "outputs": [
    {
     "data": {
      "image/png": "[encoded data removed]",
      "text/plain": [
       "<Figure size 432x288 with 1 Axes>"
      ]
     },
     "metadata": {
      "needs_background": "light"
     },
     "output_type": "display_data"
    }
   ],
   "source": [
    "# Plot data and the line\n",
    "plt.scatter(Xtest, ytest, color = \"grey\")\n",
    "plt.plot(Xtest, y_pred, color = \"red\", linewidth=2)\n",
    "\n",
    "plt.title(\"Prediction vs Test data\")\n",
    "\n",
    "plt.show()"
   ]
  },
  {
   "cell_type": "code",
   "execution_count": null,
   "id": "daafc70a-a04b-4308-a270-47eb059156e8",
   "metadata": {},
   "outputs": [],
   "source": []
  }
 ],
 "metadata": {
  "kernelspec": {
   "display_name": "Python 3",
   "language": "python",
   "name": "python3"
  },
  "language_info": {
   "codemirror_mode": {
    "name": "ipython",
    "version": 3
   },
   "file_extension": ".py",
   "mimetype": "text/x-python",
   "name": "python",
   "nbconvert_exporter": "python",
   "pygments_lexer": "ipython3",
   "version": "3.8.6"
  }
 },
 "nbformat": 4,
 "nbformat_minor": 5
}
