{
 "cells": [
  {
   "cell_type": "code",
   "execution_count": 99,
   "id": "fbcd2774-161a-4db1-898e-333b6a182e70",
   "metadata": {},
   "outputs": [],
   "source": [
    "import pandas as pd\n",
    "import numpy as np\n",
    "import matplotlib.pyplot as plt\n",
    "import sklearn"
   ]
  },
  {
   "cell_type": "code",
   "execution_count": 100,
   "id": "a9fe6f50-c156-4f24-9571-561b3a05e385",
   "metadata": {},
   "outputs": [
    {
     "data": {
      "image/png": "[encoded data removed]",
      "text/plain": [
       "<Figure size 432x288 with 1 Axes>"
      ]
     },
     "metadata": {
      "needs_background": "light"
     },
     "output_type": "display_data"
    }
   ],
   "source": [
    "df = pd.read_csv('bmi.csv')\n",
    "df.columns = ['target', 'bmi']\n",
    " \n",
    "# del df['Index']\n",
    "# feature: Data  -> X\n",
    "# target:  Index -> y\n",
    "\n",
    "plt.scatter(df['bmi'], df['target'], color = 'grey')\n",
    "\n",
    "plt.xlabel('bmi')\n",
    "plt.ylabel('target')\n",
    "\n",
    "plt.show()"
   ]
  },
  {
   "cell_type": "code",
   "execution_count": 101,
   "id": "8575ea3c-0831-44d7-b168-79ec259a2992",
   "metadata": {
    "tags": []
   },
   "outputs": [
    {
     "data": {
      "text/html": [
       "<div>\n",
       "<style scoped>\n",
       "    .dataframe tbody tr th:only-of-type {\n",
       "        vertical-align: middle;\n",
       "    }\n",
       "\n",
       "    .dataframe tbody tr th {\n",
       "        vertical-align: top;\n",
       "    }\n",
       "\n",
       "    .dataframe thead th {\n",
       "        text-align: right;\n",
       "    }\n",
       "</style>\n",
       "<table border=\"1\" class=\"dataframe\">\n",
       "  <thead>\n",
       "    <tr style=\"text-align: right;\">\n",
       "      <th></th>\n",
       "      <th>target</th>\n",
       "      <th>bmi</th>\n",
       "    </tr>\n",
       "  </thead>\n",
       "  <tbody>\n",
       "    <tr>\n",
       "      <th>0</th>\n",
       "      <td>0</td>\n",
       "      <td>0.061696</td>\n",
       "    </tr>\n",
       "    <tr>\n",
       "      <th>1</th>\n",
       "      <td>1</td>\n",
       "      <td>-0.051474</td>\n",
       "    </tr>\n",
       "    <tr>\n",
       "      <th>2</th>\n",
       "      <td>2</td>\n",
       "      <td>0.044451</td>\n",
       "    </tr>\n",
       "    <tr>\n",
       "      <th>3</th>\n",
       "      <td>3</td>\n",
       "      <td>-0.011595</td>\n",
       "    </tr>\n",
       "    <tr>\n",
       "      <th>4</th>\n",
       "      <td>4</td>\n",
       "      <td>-0.036385</td>\n",
       "    </tr>\n",
       "    <tr>\n",
       "      <th>5</th>\n",
       "      <td>5</td>\n",
       "      <td>-0.040696</td>\n",
       "    </tr>\n",
       "    <tr>\n",
       "      <th>6</th>\n",
       "      <td>6</td>\n",
       "      <td>-0.047163</td>\n",
       "    </tr>\n",
       "    <tr>\n",
       "      <th>7</th>\n",
       "      <td>7</td>\n",
       "      <td>-0.001895</td>\n",
       "    </tr>\n",
       "    <tr>\n",
       "      <th>8</th>\n",
       "      <td>8</td>\n",
       "      <td>0.061696</td>\n",
       "    </tr>\n",
       "    <tr>\n",
       "      <th>9</th>\n",
       "      <td>9</td>\n",
       "      <td>0.039062</td>\n",
       "    </tr>\n",
       "  </tbody>\n",
       "</table>\n",
       "</div>"
      ],
      "text/plain": [
       "   target       bmi\n",
       "0       0  0.061696\n",
       "1       1 -0.051474\n",
       "2       2  0.044451\n",
       "3       3 -0.011595\n",
       "4       4 -0.036385\n",
       "5       5 -0.040696\n",
       "6       6 -0.047163\n",
       "7       7 -0.001895\n",
       "8       8  0.061696\n",
       "9       9  0.039062"
      ]
     },
     "execution_count": 101,
     "metadata": {},
     "output_type": "execute_result"
    }
   ],
   "source": [
    "df.head(10)"
   ]
  },
  {
   "cell_type": "code",
   "execution_count": 102,
   "id": "f27b246c-e28d-4661-adb0-78785fdfa042",
   "metadata": {},
   "outputs": [
    {
     "data": {
      "text/plain": [
       "count    4.420000e+02\n",
       "mean    -8.015207e-16\n",
       "std      4.761905e-02\n",
       "min     -9.027530e-02\n",
       "25%     -3.422907e-02\n",
       "50%     -7.283766e-03\n",
       "75%      3.124802e-02\n",
       "max      1.705552e-01\n",
       "Name: bmi, dtype: float64"
      ]
     },
     "execution_count": 102,
     "metadata": {},
     "output_type": "execute_result"
    }
   ],
   "source": [
    "df['bmi'].describe()"
   ]
  },
  {
   "cell_type": "code",
   "execution_count": 103,
   "id": "1159d390-256d-4c0b-b483-1c950168a5d0",
   "metadata": {},
   "outputs": [
    {
     "data": {
      "image/png": "[encoded data removed]",
      "text/plain": [
       "<Figure size 432x288 with 1 Axes>"
      ]
     },
     "metadata": {
      "needs_background": "light"
     },
     "output_type": "display_data"
    }
   ],
   "source": [
    "# Plot mean of data\n",
    "\n",
    "# mean = data_column.mean()\n",
    "def mean():\n",
    "    data_column = df['bmi']\n",
    "    return sum(data_column) / float(len(data_column))\n",
    "\n",
    "df['bmi_mean'] = mean()\n",
    "# data_mean = [mean() for _ in range(len(data_column))]\n",
    "\n",
    "plt.plot(df['bmi'], df['bmi_mean'], color = 'grey', label = 'Mean')\n",
    "\n",
    "plt.xlabel('bmi') \n",
    "plt.ylabel('mean') \n",
    "\n",
    "plt.legend()\n",
    "\n",
    "plt.show()"
   ]
  },
  {
   "cell_type": "code",
   "execution_count": 104,
   "id": "a4491b80-8900-4ef0-b610-5a36c46febdd",
   "metadata": {
    "tags": []
   },
   "outputs": [
    {
     "data": {
      "image/png": "[encoded data removed]",
      "text/plain": [
       "<Figure size 432x288 with 1 Axes>"
      ]
     },
     "metadata": {
      "needs_background": "light"
     },
     "output_type": "display_data"
    }
   ],
   "source": [
    "# Plot variance of each row in data\n",
    "df['variance_of_each_bmi'] = (df['bmi'] - df['bmi_mean']) ** 2\n",
    "\n",
    "plt.scatter(df['bmi'], df['variance_of_each_bmi'], color = 'grey', label = 'Variance')\n",
    "\n",
    "plt.xlabel('bmi') \n",
    "plt.ylabel('variance of each bmi') \n",
    "\n",
    "plt.legend()\n",
    "\n",
    "plt.show()"
   ]
  },
  {
   "cell_type": "code",
   "execution_count": 105,
   "id": "d6607aab-cd9f-4b57-a865-f1a543b910e6",
   "metadata": {},
   "outputs": [
    {
     "data": {
      "image/png": "[encoded data removed]",
      "text/plain": [
       "<Figure size 432x288 with 1 Axes>"
      ]
     },
     "metadata": {
      "needs_background": "light"
     },
     "output_type": "display_data"
    }
   ],
   "source": [
    "# Plot variance of data\n",
    "df['variance_of_bmi'] = sum(df['variance_of_each_bmi']) / len(df['variance_of_each_bmi'])\n",
    "\n",
    "plt.plot(df['bmi'], df['variance_of_bmi'], color = 'grey', label = 'Variance')\n",
    "\n",
    "plt.xlabel('bmi') \n",
    "plt.ylabel('variance') \n",
    "\n",
    "plt.legend()\n",
    "\n",
    "plt.show()"
   ]
  },
  {
   "cell_type": "code",
   "execution_count": 106,
   "id": "2eecc9c0-6730-48cc-9c60-21ba644dd84f",
   "metadata": {},
   "outputs": [
    {
     "data": {
      "text/html": [
       "<div>\n",
       "<style scoped>\n",
       "    .dataframe tbody tr th:only-of-type {\n",
       "        vertical-align: middle;\n",
       "    }\n",
       "\n",
       "    .dataframe tbody tr th {\n",
       "        vertical-align: top;\n",
       "    }\n",
       "\n",
       "    .dataframe thead th {\n",
       "        text-align: right;\n",
       "    }\n",
       "</style>\n",
       "<table border=\"1\" class=\"dataframe\">\n",
       "  <thead>\n",
       "    <tr style=\"text-align: right;\">\n",
       "      <th></th>\n",
       "      <th>target</th>\n",
       "      <th>bmi</th>\n",
       "      <th>bmi_mean</th>\n",
       "      <th>variance_of_each_bmi</th>\n",
       "      <th>variance_of_bmi</th>\n",
       "    </tr>\n",
       "  </thead>\n",
       "  <tbody>\n",
       "    <tr>\n",
       "      <th>0</th>\n",
       "      <td>0</td>\n",
       "      <td>0.061696</td>\n",
       "      <td>-8.036558e-16</td>\n",
       "      <td>0.003806</td>\n",
       "      <td>0.002262</td>\n",
       "    </tr>\n",
       "    <tr>\n",
       "      <th>1</th>\n",
       "      <td>1</td>\n",
       "      <td>-0.051474</td>\n",
       "      <td>-8.036558e-16</td>\n",
       "      <td>0.002650</td>\n",
       "      <td>0.002262</td>\n",
       "    </tr>\n",
       "    <tr>\n",
       "      <th>2</th>\n",
       "      <td>2</td>\n",
       "      <td>0.044451</td>\n",
       "      <td>-8.036558e-16</td>\n",
       "      <td>0.001976</td>\n",
       "      <td>0.002262</td>\n",
       "    </tr>\n",
       "    <tr>\n",
       "      <th>3</th>\n",
       "      <td>3</td>\n",
       "      <td>-0.011595</td>\n",
       "      <td>-8.036558e-16</td>\n",
       "      <td>0.000134</td>\n",
       "      <td>0.002262</td>\n",
       "    </tr>\n",
       "    <tr>\n",
       "      <th>4</th>\n",
       "      <td>4</td>\n",
       "      <td>-0.036385</td>\n",
       "      <td>-8.036558e-16</td>\n",
       "      <td>0.001324</td>\n",
       "      <td>0.002262</td>\n",
       "    </tr>\n",
       "    <tr>\n",
       "      <th>...</th>\n",
       "      <td>...</td>\n",
       "      <td>...</td>\n",
       "      <td>...</td>\n",
       "      <td>...</td>\n",
       "      <td>...</td>\n",
       "    </tr>\n",
       "    <tr>\n",
       "      <th>437</th>\n",
       "      <td>437</td>\n",
       "      <td>0.019662</td>\n",
       "      <td>-8.036558e-16</td>\n",
       "      <td>0.000387</td>\n",
       "      <td>0.002262</td>\n",
       "    </tr>\n",
       "    <tr>\n",
       "      <th>438</th>\n",
       "      <td>438</td>\n",
       "      <td>-0.015906</td>\n",
       "      <td>-8.036558e-16</td>\n",
       "      <td>0.000253</td>\n",
       "      <td>0.002262</td>\n",
       "    </tr>\n",
       "    <tr>\n",
       "      <th>439</th>\n",
       "      <td>439</td>\n",
       "      <td>-0.015906</td>\n",
       "      <td>-8.036558e-16</td>\n",
       "      <td>0.000253</td>\n",
       "      <td>0.002262</td>\n",
       "    </tr>\n",
       "    <tr>\n",
       "      <th>440</th>\n",
       "      <td>440</td>\n",
       "      <td>0.039062</td>\n",
       "      <td>-8.036558e-16</td>\n",
       "      <td>0.001526</td>\n",
       "      <td>0.002262</td>\n",
       "    </tr>\n",
       "    <tr>\n",
       "      <th>441</th>\n",
       "      <td>441</td>\n",
       "      <td>-0.073030</td>\n",
       "      <td>-8.036558e-16</td>\n",
       "      <td>0.005333</td>\n",
       "      <td>0.002262</td>\n",
       "    </tr>\n",
       "  </tbody>\n",
       "</table>\n",
       "<p>442 rows × 5 columns</p>\n",
       "</div>"
      ],
      "text/plain": [
       "     target       bmi      bmi_mean  variance_of_each_bmi  variance_of_bmi\n",
       "0         0  0.061696 -8.036558e-16              0.003806         0.002262\n",
       "1         1 -0.051474 -8.036558e-16              0.002650         0.002262\n",
       "2         2  0.044451 -8.036558e-16              0.001976         0.002262\n",
       "3         3 -0.011595 -8.036558e-16              0.000134         0.002262\n",
       "4         4 -0.036385 -8.036558e-16              0.001324         0.002262\n",
       "..      ...       ...           ...                   ...              ...\n",
       "437     437  0.019662 -8.036558e-16              0.000387         0.002262\n",
       "438     438 -0.015906 -8.036558e-16              0.000253         0.002262\n",
       "439     439 -0.015906 -8.036558e-16              0.000253         0.002262\n",
       "440     440  0.039062 -8.036558e-16              0.001526         0.002262\n",
       "441     441 -0.073030 -8.036558e-16              0.005333         0.002262\n",
       "\n",
       "[442 rows x 5 columns]"
      ]
     },
     "execution_count": 106,
     "metadata": {},
     "output_type": "execute_result"
    }
   ],
   "source": [
    "df"
   ]
  },
  {
   "cell_type": "code",
   "execution_count": 92,
   "id": "5afb1eb7-60ba-4d99-9dc1-39f6eb7a058d",
   "metadata": {},
   "outputs": [],
   "source": [
    "# Split data\n",
    "from sklearn.model_selection import train_test_split\n",
    "\n",
    "X = df['bmi'].values.reshape(-1, 1)\n",
    "y = df['target'].values.reshape(-1, 1)\n",
    "\n",
    "X_train, X_test, y_train, y_test = train_test_split(X, y, test_size = 0.2, random_state = 0)"
   ]
  },
  {
   "cell_type": "code",
   "execution_count": 98,
   "id": "7ac609a7-5069-4c85-9dec-a761c1fff18a",
   "metadata": {},
   "outputs": [],
   "source": [
    "# Linear Regression class\n",
    "class Linear_Regression:\n",
    "    def __init__(self):\n",
    "        self.x = None\n",
    "        self.y = None\n",
    "        self.alpha0 = None\n",
    "        self.alpha1 = None\n",
    "        self.coeffients = []\n",
    "        \n",
    "    def fit(self, x, y):\n",
    "        self.x = x\n",
    "        self.y = y\n",
    "        \n",
    "        xmean = x.mean()\n",
    "        ymean = y.mean()\n",
    "        \n",
    "        sum0, sum1 = 0, 0\n",
    "        for i in range(len(x)):\n",
    "            sum0 += (x[i] - xmean) * (y[i] - ymean)\n",
    "            sum1 += (x[i] - xmean) ** 2\n",
    "        \n",
    "        # alpha1 is m and alpha0 is b\n",
    "        self.alpha1 = float(sum0 / sum1) \n",
    "        self.alpha0 = ymean - float(self.alpha1 * xmean)\n",
    "        \n",
    "        self.coeffients = [self.alpha0, self.alpha1]\n",
    "        return self\n",
    "    \n",
    "    def predict(self, x):\n",
    "        # m * x + b\n",
    "        return self.coeffients[1] * x + self.coeffients[0]\n",
    "    \n",
    "    def mse(self, ytest, ypred):\n",
    "        ysum = 0\n",
    "        for i in range(len(ytest)):\n",
    "            ysum += (ypred[i] - ytest[i]) ** 2\n",
    "        \n",
    "        return float(ysum / len(ytest))"
   ]
  },
  {
   "cell_type": "code",
   "execution_count": 97,
   "id": "d4815814-770a-499a-ad72-27b79241f50b",
   "metadata": {},
   "outputs": [
    {
     "name": "stdout",
     "output_type": "stream",
     "text": [
      "MSE:  16529.019837441483\n"
     ]
    }
   ],
   "source": [
    "# Use dataset to create sample Linear regression\n",
    "model = Linear_Regression()\n",
    "model.fit(X_train, y_train)\n",
    "y_predict = model.predict(X_test)\n",
    "\n",
    "print(\"MSE: \", model.mse(y_test, y_predict))"
   ]
  },
  {
   "cell_type": "code",
   "execution_count": 96,
   "id": "c31042fe-dfae-4ad2-b54c-ff7a446bfc70",
   "metadata": {},
   "outputs": [
    {
     "data": {
      "image/png": "[encoded data removed]",
      "text/plain": [
       "<Figure size 432x288 with 1 Axes>"
      ]
     },
     "metadata": {
      "needs_background": "light"
     },
     "output_type": "display_data"
    }
   ],
   "source": [
    "# Plot data and the line\n",
    "plt.scatter(X_test, y_test, color = \"grey\")\n",
    "plt.plot(X_test, y_predict, color = \"red\", linewidth=2)\n",
    "\n",
    "plt.title(\"Prediction vs Test data\")\n",
    "\n",
    "plt.show()"
   ]
  },
  {
   "cell_type": "code",
   "execution_count": null,
   "id": "605b5465-2309-4264-9073-920652e36b47",
   "metadata": {},
   "outputs": [],
   "source": []
  }
 ],
 "metadata": {
  "kernelspec": {
   "display_name": "Python 3",
   "language": "python",
   "name": "python3"
  },
  "language_info": {
   "codemirror_mode": {
    "name": "ipython",
    "version": 3
   },
   "file_extension": ".py",
   "mimetype": "text/x-python",
   "name": "python",
   "nbconvert_exporter": "python",
   "pygments_lexer": "ipython3",
   "version": "3.8.6"
  }
 },
 "nbformat": 4,
 "nbformat_minor": 5
}
